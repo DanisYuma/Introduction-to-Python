{
 "cells": [
  {
   "cell_type": "markdown",
   "id": "bf34c280",
   "metadata": {},
   "source": [
    "## Задача 1:\n",
    "На складе лежат разные фрукты в разном количестве.\n",
    "Нужно написать функцию, которая на вход принимает любое количество названий фруктов и их количество, а возвращает общее количество фруктов на складе"
   ]
  },
  {
   "cell_type": "code",
   "execution_count": 8,
   "id": "0cec177d",
   "metadata": {},
   "outputs": [
    {
     "data": {
      "text/plain": [
       "750"
      ]
     },
     "execution_count": 8,
     "metadata": {},
     "output_type": "execute_result"
    }
   ],
   "source": [
    "fruits = {\n",
    "    'Orange': 250,\n",
    "    'Banan': 120,\n",
    "    'Apple': 240,\n",
    "    'Limon': 140\n",
    "}\n",
    "sum(fruits.values())"
   ]
  },
  {
   "cell_type": "markdown",
   "id": "d8990fdc",
   "metadata": {},
   "source": [
    "## Задача 2:\n",
    "Дан список с затратами на рекламу. Но в данных есть ошибки, некоторые затраты имеют отрицательную величину. Удалите такие значения из списка и посчитайте суммарные затраты\n",
    "[100, 125, -90, 345, 655, -1, 0, 200]\n",
    "Используйте list comprehensions"
   ]
  },
  {
   "cell_type": "code",
   "execution_count": 10,
   "id": "03d871fa",
   "metadata": {},
   "outputs": [],
   "source": [
    "reklama = [100, 125, -90, 345, 655, -1, 0, 200]"
   ]
  },
  {
   "cell_type": "code",
   "execution_count": 12,
   "id": "4acf5e10",
   "metadata": {},
   "outputs": [
    {
     "data": {
      "text/plain": [
       "1425"
      ]
     },
     "execution_count": 12,
     "metadata": {},
     "output_type": "execute_result"
    }
   ],
   "source": [
    "sum([i for i in reklama if i > 0])"
   ]
  },
  {
   "cell_type": "markdown",
   "id": "a2d10071",
   "metadata": {},
   "source": [
    "## Задача 3:\n",
    "Даны два списка"
   ]
  },
  {
   "cell_type": "code",
   "execution_count": null,
   "id": "633fbe34",
   "metadata": {},
   "outputs": [],
   "source": [
    "Дата покупки"
   ]
  },
  {
   "cell_type": "code",
   "execution_count": 13,
   "id": "047fb3af",
   "metadata": {},
   "outputs": [],
   "source": [
    "date = ['2021-09-14', '2021-12-15', '2021-09-08', '2021-12-05', '2021-10-09', '2021-09-30', '2021-12-22', '2021-11-29', '2021-12-24', '2021-11-26', '2021-10-27', '2021-12-18', '2021-11-09', '2021-11-23', '2021-09-27', '2021-10-02', '2021-12-27', '2021-09-20', '2021-12-13', '2021-11-01', '2021-11-09', '2021-12-06', '2021-12-08', '2021-10-09', '2021-10-31', '2021-09-30', '2021-11-09', '2021-12-13', '2021-10-26', '2021-12-09']"
   ]
  },
  {
   "cell_type": "markdown",
   "id": "c513f4e8",
   "metadata": {},
   "source": [
    "Суммы покупок по датам"
   ]
  },
  {
   "cell_type": "code",
   "execution_count": 16,
   "id": "25c3c1dc",
   "metadata": {},
   "outputs": [],
   "source": [
    "revenue = [1270, 8413, 9028, 3703, 5739, 4095, 295, 4944, 5723, 3701, 4471, 651, 7037, 4274, 6275, 4988, 6930, 2971, 6592, 2004, 2822, 519, 3406, 2732, 5015, 2008, 316, 6333, 5700, 2887]"
   ]
  },
  {
   "cell_type": "markdown",
   "id": "fcf8d519",
   "metadata": {},
   "source": [
    "### 3.1 Найдите, какая выручка у компании в ноябре\n",
    "Используйте list comprehensions"
   ]
  },
  {
   "cell_type": "code",
   "execution_count": 18,
   "id": "a9997422",
   "metadata": {},
   "outputs": [],
   "source": [
    "from datetime import datetime"
   ]
  },
  {
   "cell_type": "code",
   "execution_count": 21,
   "id": "24f7e846",
   "metadata": {},
   "outputs": [
    {
     "name": "stdout",
     "output_type": "stream",
     "text": [
      "25098\n"
     ]
    }
   ],
   "source": [
    "nov_revenue = [revenue[i] for i in range(len(revenue)) if datetime.strptime(date[i], \"%Y-%m-%d\").date().month == 11]\n",
    "print(sum(nov_revenue))"
   ]
  },
  {
   "cell_type": "markdown",
   "id": "4a62bceb",
   "metadata": {},
   "source": [
    "### 3.2 Найдите выручку компании в зависимости от месяца\n",
    "Для этого напишите функцию, которая на вход принимает список с датами и список с выручкой, а на выходе словарь, где ключи - это месяцы, а значения - это выручка.\n",
    "Используйте аннотирование типов."
   ]
  },
  {
   "cell_type": "code",
   "execution_count": 70,
   "id": "ca5d5150",
   "metadata": {},
   "outputs": [],
   "source": [
    "from typing import List, Dict"
   ]
  },
  {
   "cell_type": "code",
   "execution_count": 71,
   "id": "ed315fbe",
   "metadata": {},
   "outputs": [],
   "source": [
    "def month_revenue(month: List, rev: List) -> Dict:\n",
    "    month_rev = dict()\n",
    "    \n",
    "    for i in range(len(month)):\n",
    "        if month[i] in month_rev:\n",
    "            month_rev[month[i]] = month_rev[month[i]] + rev[i]\n",
    "        else:\n",
    "            month_rev[month[i]] = rev[i]\n",
    "    \n",
    "    return month_rev"
   ]
  },
  {
   "cell_type": "code",
   "execution_count": 72,
   "id": "f8021494",
   "metadata": {},
   "outputs": [
    {
     "name": "stdout",
     "output_type": "stream",
     "text": [
      "[9, 12, 9, 12, 10, 9, 12, 11, 12, 11, 10, 12, 11, 11, 9, 10, 12, 9, 12, 11, 11, 12, 12, 10, 10, 9, 11, 12, 10, 12]\n"
     ]
    }
   ],
   "source": [
    "month_list = [datetime.strptime(date[i], \"%Y-%m-%d\").date().month  for i in range(len(date))]\n",
    "print(month_list)"
   ]
  },
  {
   "cell_type": "code",
   "execution_count": 73,
   "id": "4b03e461",
   "metadata": {},
   "outputs": [
    {
     "ename": "TypeError",
     "evalue": "'function' object is not subscriptable",
     "output_type": "error",
     "traceback": [
      "\u001b[1;31m---------------------------------------------------------------------------\u001b[0m",
      "\u001b[1;31mTypeError\u001b[0m                                 Traceback (most recent call last)",
      "\u001b[1;32m~\\AppData\\Local\\Temp\\ipykernel_8760\\4244319572.py\u001b[0m in \u001b[0;36m<module>\u001b[1;34m\u001b[0m\n\u001b[1;32m----> 1\u001b[1;33m \u001b[0mmonth_revenue\u001b[0m\u001b[1;33m(\u001b[0m\u001b[0mmonth_list\u001b[0m\u001b[1;33m,\u001b[0m \u001b[0mrevenue\u001b[0m\u001b[1;33m)\u001b[0m\u001b[1;33m\u001b[0m\u001b[1;33m\u001b[0m\u001b[0m\n\u001b[0m",
      "\u001b[1;32m~\\AppData\\Local\\Temp\\ipykernel_8760\\1927513086.py\u001b[0m in \u001b[0;36mmonth_revenue\u001b[1;34m(month, rev)\u001b[0m\n\u001b[0;32m      6\u001b[0m             \u001b[0mmonth_rev\u001b[0m\u001b[1;33m[\u001b[0m\u001b[0mmonth\u001b[0m\u001b[1;33m[\u001b[0m\u001b[0mi\u001b[0m\u001b[1;33m]\u001b[0m\u001b[1;33m]\u001b[0m \u001b[1;33m=\u001b[0m \u001b[0mmonth_rev\u001b[0m\u001b[1;33m[\u001b[0m\u001b[0mmonth\u001b[0m\u001b[1;33m[\u001b[0m\u001b[0mi\u001b[0m\u001b[1;33m]\u001b[0m\u001b[1;33m]\u001b[0m \u001b[1;33m+\u001b[0m \u001b[0mrev\u001b[0m\u001b[1;33m[\u001b[0m\u001b[0mi\u001b[0m\u001b[1;33m]\u001b[0m\u001b[1;33m\u001b[0m\u001b[1;33m\u001b[0m\u001b[0m\n\u001b[0;32m      7\u001b[0m         \u001b[1;32melse\u001b[0m\u001b[1;33m:\u001b[0m\u001b[1;33m\u001b[0m\u001b[1;33m\u001b[0m\u001b[0m\n\u001b[1;32m----> 8\u001b[1;33m             \u001b[0mmonth_rev\u001b[0m\u001b[1;33m[\u001b[0m\u001b[0mmonth\u001b[0m\u001b[1;33m[\u001b[0m\u001b[0mi\u001b[0m\u001b[1;33m]\u001b[0m\u001b[1;33m]\u001b[0m \u001b[1;33m=\u001b[0m \u001b[0mrev\u001b[0m\u001b[1;33m[\u001b[0m\u001b[0mi\u001b[0m\u001b[1;33m]\u001b[0m\u001b[1;33m\u001b[0m\u001b[1;33m\u001b[0m\u001b[0m\n\u001b[0m\u001b[0;32m      9\u001b[0m \u001b[1;33m\u001b[0m\u001b[0m\n\u001b[0;32m     10\u001b[0m     \u001b[1;32mreturn\u001b[0m \u001b[0mmonth_rev\u001b[0m\u001b[1;33m\u001b[0m\u001b[1;33m\u001b[0m\u001b[0m\n",
      "\u001b[1;31mTypeError\u001b[0m: 'function' object is not subscriptable"
     ]
    }
   ],
   "source": [
    "month_revenue(month_list, revenue)"
   ]
  },
  {
   "cell_type": "code",
   "execution_count": null,
   "id": "15ff98b8",
   "metadata": {},
   "outputs": [],
   "source": []
  }
 ],
 "metadata": {
  "kernelspec": {
   "display_name": "Python 3 (ipykernel)",
   "language": "python",
   "name": "python3"
  },
  "language_info": {
   "codemirror_mode": {
    "name": "ipython",
    "version": 3
   },
   "file_extension": ".py",
   "mimetype": "text/x-python",
   "name": "python",
   "nbconvert_exporter": "python",
   "pygments_lexer": "ipython3",
   "version": "3.9.13"
  }
 },
 "nbformat": 4,
 "nbformat_minor": 5
}
